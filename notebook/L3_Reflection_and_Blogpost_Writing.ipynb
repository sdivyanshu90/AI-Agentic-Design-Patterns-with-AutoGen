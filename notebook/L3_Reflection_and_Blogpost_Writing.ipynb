{
 "cells": [
  {
   "cell_type": "markdown",
   "id": "fc3024e2",
   "metadata": {},
   "source": [
    "# Lesson 3: Reflection and Blogpost Writing"
   ]
  },
  {
   "cell_type": "markdown",
   "id": "3b0cc42f",
   "metadata": {},
   "source": [
    "## Setup"
   ]
  },
  {
   "cell_type": "code",
   "execution_count": null,
   "id": "96d39be0-eaf3-456d-8613-ba21099ed36b",
   "metadata": {
    "height": 30
   },
   "outputs": [],
   "source": [
    "llm_config = {\"model\": \"gpt-3.5-turbo\"}"
   ]
  },
  {
   "cell_type": "markdown",
   "id": "0969e6bb",
   "metadata": {},
   "source": [
    "## The task!"
   ]
  },
  {
   "cell_type": "code",
   "execution_count": null,
   "id": "e8074032-3690-4de9-ad08-ea8323cb441b",
   "metadata": {
    "height": 132
   },
   "outputs": [],
   "source": [
    "task = '''\n",
    "        Write a concise but engaging blogpost about\n",
    "       DeepLearning.AI. Make sure the blogpost is\n",
    "       within 100 words.\n",
    "       '''\n"
   ]
  },
  {
   "cell_type": "markdown",
   "id": "1987f023",
   "metadata": {},
   "source": [
    "## Create a writer agent"
   ]
  },
  {
   "cell_type": "code",
   "execution_count": null,
   "id": "fe0f0a47-a9fe-43a0-b7b1-79922e4c4ac8",
   "metadata": {
    "height": 200
   },
   "outputs": [],
   "source": [
    "import autogen\n",
    "\n",
    "writer = autogen.AssistantAgent(\n",
    "    name=\"Writer\",\n",
    "    system_message=\"You are a writer. You write engaging and concise \" \n",
    "        \"blogpost (with title) on given topics. You must polish your \"\n",
    "        \"writing based on the feedback you receive and give a refined \"\n",
    "        \"version. Only return your final work without additional comments.\",\n",
    "    llm_config=llm_config,\n",
    ")"
   ]
  },
  {
   "cell_type": "code",
   "execution_count": null,
   "id": "7c7b4d8d-40f7-4a05-8958-25d20054de3a",
   "metadata": {
    "height": 47
   },
   "outputs": [],
   "source": [
    "reply = writer.generate_reply(messages=[{\"content\": task, \"role\": \"user\"}])"
   ]
  },
  {
   "cell_type": "code",
   "execution_count": null,
   "id": "c501c97d-e338-4f36-a384-6ec45983cf77",
   "metadata": {
    "height": 30
   },
   "outputs": [
    {
     "name": "stdout",
     "output_type": "stream",
     "text": [
      "Title: Unlocking the Power of DeepLearning.AI\n",
      "\n",
      "Dive into the world of Artificial Intelligence with DeepLearning.AI! Offering cutting-edge courses created by industry experts, this platform equips you with the skills to thrive in the age of AI. From computer vision to natural language processing, DeepLearning.AI covers it all. Whether you're a beginner or a seasoned professional, there's something for everyone. Join a community of learners worldwide and stay ahead of the curve. Embrace the future with DeepLearning.AI and unleash your potential in this rapidly evolving field. Start your journey today!\n"
     ]
    }
   ],
   "source": [
    "print(reply)"
   ]
  },
  {
   "cell_type": "markdown",
   "id": "49658114",
   "metadata": {},
   "source": [
    "## Adding reflection \n",
    "\n",
    "Create a critic agent to reflect on the work of the writer agent."
   ]
  },
  {
   "cell_type": "code",
   "execution_count": null,
   "id": "c7fcd1c7-51ec-4915-8e97-bac03565c4c7",
   "metadata": {
    "height": 166
   },
   "outputs": [],
   "source": [
    "critic = autogen.AssistantAgent(\n",
    "    name=\"Critic\",\n",
    "    is_termination_msg=lambda x: x.get(\"content\", \"\").find(\"TERMINATE\") >= 0,\n",
    "    llm_config=llm_config,\n",
    "    system_message=\"You are a critic. You review the work of \"\n",
    "                \"the writer and provide constructive \"\n",
    "                \"feedback to help improve the quality of the content.\",\n",
    ")"
   ]
  },
  {
   "cell_type": "code",
   "execution_count": null,
   "id": "899d5fdb-6081-470b-b287-8cf8b8142d0d",
   "metadata": {
    "height": 115
   },
   "outputs": [
    {
     "name": "stdout",
     "output_type": "stream",
     "text": [
      "\u001b[33mCritic\u001b[0m (to Writer):\n",
      "\n",
      "\n",
      "        Write a concise but engaging blogpost about\n",
      "       DeepLearning.AI. Make sure the blogpost is\n",
      "       within 100 words.\n",
      "       \n",
      "\n",
      "--------------------------------------------------------------------------------\n",
      "\u001b[33mWriter\u001b[0m (to Critic):\n",
      "\n",
      "Title: Unlocking the Power of DeepLearning.AI\n",
      "\n",
      "Dive into the world of Artificial Intelligence with DeepLearning.AI! Offering cutting-edge courses created by industry experts, this platform equips you with the skills to thrive in the age of AI. From computer vision to natural language processing, DeepLearning.AI covers it all. Whether you're a beginner or a seasoned professional, there's something for everyone. Join a community of learners worldwide and stay ahead of the curve. Embrace the future with DeepLearning.AI and unleash your potential in this rapidly evolving field. Start your journey today!\n",
      "\n",
      "--------------------------------------------------------------------------------\n",
      "\u001b[33mCritic\u001b[0m (to Writer):\n",
      "\n",
      "The blogpost effectively introduces DeepLearning.AI, highlighting its relevance in the AI landscape, the expertise of the creators, and the diverse range of courses offered. However, I recommend providing specific examples of the courses available and the skills they can help develop. Additionally, consider including testimonials from learners who have benefited from the platform. This will add authenticity and credibility to your blogpost. A call-to-action inviting readers to explore the platform can also enhance reader engagement. Overall, the post is engaging but could benefit from more specific details and social proof.\n",
      "\n",
      "--------------------------------------------------------------------------------\n",
      "\u001b[33mWriter\u001b[0m (to Critic):\n",
      "\n",
      "Title: Master AI Skills with DeepLearning.AI\n",
      "\n",
      "Embark on your AI journey with DeepLearning.AI! Gain practical expertise in key AI domains like computer vision and natural language processing through expert-crafted courses. From the fundamentals to advanced topics, there's something for every skill level. Hear success stories from learners worldwide who have upskilled and transformed their careers. Join this vibrant learning community and stay at the forefront of AI innovation. Ready to unlock your AI potential? Explore DeepLearning.AI today and start building the future!\n",
      "\n",
      "--------------------------------------------------------------------------------\n"
     ]
    }
   ],
   "source": [
    "res = critic.initiate_chat(\n",
    "    recipient=writer,\n",
    "    message=task,\n",
    "    max_turns=2,\n",
    "    summary_method=\"last_msg\"\n",
    ")"
   ]
  },
  {
   "cell_type": "markdown",
   "id": "e7b76449",
   "metadata": {},
   "source": [
    "## Nested chat"
   ]
  },
  {
   "cell_type": "code",
   "execution_count": null,
   "id": "401ecf92-63e9-40ff-aeed-1c404352e4ab",
   "metadata": {
    "height": 217
   },
   "outputs": [],
   "source": [
    "SEO_reviewer = autogen.AssistantAgent(\n",
    "    name=\"SEO Reviewer\",\n",
    "    llm_config=llm_config,\n",
    "    system_message=\"You are an SEO reviewer, known for \"\n",
    "        \"your ability to optimize content for search engines, \"\n",
    "        \"ensuring that it ranks well and attracts organic traffic. \" \n",
    "        \"Make sure your suggestion is concise (within 3 bullet points), \"\n",
    "        \"concrete and to the point. \"\n",
    "        \"Begin the review by stating your role.\",\n",
    ")\n"
   ]
  },
  {
   "cell_type": "code",
   "execution_count": null,
   "id": "f85acb81-7ab9-4c84-b8bb-6fbae3dce848",
   "metadata": {
    "height": 200
   },
   "outputs": [],
   "source": [
    "legal_reviewer = autogen.AssistantAgent(\n",
    "    name=\"Legal Reviewer\",\n",
    "    llm_config=llm_config,\n",
    "    system_message=\"You are a legal reviewer, known for \"\n",
    "        \"your ability to ensure that content is legally compliant \"\n",
    "        \"and free from any potential legal issues. \"\n",
    "        \"Make sure your suggestion is concise (within 3 bullet points), \"\n",
    "        \"concrete and to the point. \"\n",
    "        \"Begin the review by stating your role.\",\n",
    ")"
   ]
  },
  {
   "cell_type": "code",
   "execution_count": null,
   "id": "d46a177a-8088-4956-8d2b-3e916b8ca5e9",
   "metadata": {
    "height": 200
   },
   "outputs": [],
   "source": [
    "ethics_reviewer = autogen.AssistantAgent(\n",
    "    name=\"Ethics Reviewer\",\n",
    "    llm_config=llm_config,\n",
    "    system_message=\"You are an ethics reviewer, known for \"\n",
    "        \"your ability to ensure that content is ethically sound \"\n",
    "        \"and free from any potential ethical issues. \" \n",
    "        \"Make sure your suggestion is concise (within 3 bullet points), \"\n",
    "        \"concrete and to the point. \"\n",
    "        \"Begin the review by stating your role. \",\n",
    ")"
   ]
  },
  {
   "cell_type": "code",
   "execution_count": null,
   "id": "a7b2ad6f-8ba6-436a-9459-14ffbe8a32d3",
   "metadata": {
    "height": 132
   },
   "outputs": [],
   "source": [
    "meta_reviewer = autogen.AssistantAgent(\n",
    "    name=\"Meta Reviewer\",\n",
    "    llm_config=llm_config,\n",
    "    system_message=\"You are a meta reviewer, you aggragate and review \"\n",
    "    \"the work of other reviewers and give a final suggestion on the content.\",\n",
    ")"
   ]
  },
  {
   "cell_type": "markdown",
   "id": "913beca1",
   "metadata": {},
   "source": [
    "## Orchestrate the nested chats to solve the task"
   ]
  },
  {
   "cell_type": "code",
   "execution_count": null,
   "id": "a11a70c7-19ca-4e5a-ad3d-f2b481fb5915",
   "metadata": {
    "height": 557
   },
   "outputs": [],
   "source": [
    "def reflection_message(recipient, messages, sender, config):\n",
    "    return f'''Review the following content. \n",
    "            \\n\\n {recipient.chat_messages_for_summary(sender)[-1]['content']}'''\n",
    "\n",
    "review_chats = [\n",
    "    {\n",
    "     \"recipient\": SEO_reviewer, \n",
    "     \"message\": reflection_message, \n",
    "     \"summary_method\": \"reflection_with_llm\",\n",
    "     \"summary_args\": {\"summary_prompt\" : \n",
    "        \"Return review into as JSON object only:\"\n",
    "        \"{'Reviewer': '', 'Review': ''}. Here Reviewer should be your role\",},\n",
    "     \"max_turns\": 1},\n",
    "    {\n",
    "    \"recipient\": legal_reviewer, \"message\": reflection_message, \n",
    "     \"summary_method\": \"reflection_with_llm\",\n",
    "     \"summary_args\": {\"summary_prompt\" : \n",
    "        \"Return review into as JSON object only:\"\n",
    "        \"{'Reviewer': '', 'Review': ''}.\",},\n",
    "     \"max_turns\": 1},\n",
    "    {\"recipient\": ethics_reviewer, \"message\": reflection_message, \n",
    "     \"summary_method\": \"reflection_with_llm\",\n",
    "     \"summary_args\": {\"summary_prompt\" : \n",
    "        \"Return review into as JSON object only:\"\n",
    "        \"{'reviewer': '', 'review': ''}\",},\n",
    "     \"max_turns\": 1},\n",
    "     {\"recipient\": meta_reviewer, \n",
    "      \"message\": \"Aggregrate feedback from all reviewers and give final suggestions on the writing.\", \n",
    "     \"max_turns\": 1},\n",
    "]\n"
   ]
  },
  {
   "cell_type": "code",
   "execution_count": null,
   "id": "b3a40b66-5061-460d-ad9d-c0dbcfbba2e9",
   "metadata": {
    "height": 81
   },
   "outputs": [],
   "source": [
    "critic.register_nested_chats(\n",
    "    review_chats,\n",
    "    trigger=writer,\n",
    ")"
   ]
  },
  {
   "cell_type": "markdown",
   "id": "43b8797d",
   "metadata": {},
   "source": [
    "**Note**: You might get a slightly different response than what's shown in the video. Feel free to try different task."
   ]
  },
  {
   "cell_type": "code",
   "execution_count": null,
   "id": "3b8dcac3-1e72-43b7-9d5a-1be740f6efd5",
   "metadata": {
    "height": 115
   },
   "outputs": [
    {
     "name": "stdout",
     "output_type": "stream",
     "text": [
      "\u001b[33mCritic\u001b[0m (to Writer):\n",
      "\n",
      "\n",
      "        Write a concise but engaging blogpost about\n",
      "       DeepLearning.AI. Make sure the blogpost is\n",
      "       within 100 words.\n",
      "       \n",
      "\n",
      "--------------------------------------------------------------------------------\n",
      "\u001b[33mWriter\u001b[0m (to Critic):\n",
      "\n",
      "Title: Unlocking the Power of DeepLearning.AI\n",
      "\n",
      "Dive into the world of Artificial Intelligence with DeepLearning.AI! Offering cutting-edge courses created by industry experts, this platform equips you with the skills to thrive in the age of AI. From computer vision to natural language processing, DeepLearning.AI covers it all. Whether you're a beginner or a seasoned professional, there's something for everyone. Join a community of learners worldwide and stay ahead of the curve. Embrace the future with DeepLearning.AI and unleash your potential in this rapidly evolving field. Start your journey today!\n",
      "\n",
      "--------------------------------------------------------------------------------\n",
      "\u001b[34m\n",
      "********************************************************************************\u001b[0m\n",
      "\u001b[34mStarting a new chat....\u001b[0m\n",
      "\u001b[34m\n",
      "********************************************************************************\u001b[0m\n",
      "\u001b[33mCritic\u001b[0m (to SEO Reviewer):\n",
      "\n",
      "Review the following content. \n",
      "            \n",
      "\n",
      " Title: Unlocking the Power of DeepLearning.AI\n",
      "\n",
      "Dive into the world of Artificial Intelligence with DeepLearning.AI! Offering cutting-edge courses created by industry experts, this platform equips you with the skills to thrive in the age of AI. From computer vision to natural language processing, DeepLearning.AI covers it all. Whether you're a beginner or a seasoned professional, there's something for everyone. Join a community of learners worldwide and stay ahead of the curve. Embrace the future with DeepLearning.AI and unleash your potential in this rapidly evolving field. Start your journey today!\n",
      "\n",
      "--------------------------------------------------------------------------------\n",
      "\u001b[33mSEO Reviewer\u001b[0m (to Critic):\n",
      "\n",
      "As an SEO reviewer:\n",
      "\n",
      "1. Include specific targeted keywords related to DeepLearning.AI such as \"Artificial Intelligence courses,\" \"computer vision training,\" or \"natural language processing classes\" to improve search engine visibility.\n",
      "   \n",
      "2. Add meta tags with relevant terms like \"AI courses,\" \"data science training,\" and \"machine learning certifications\" to enhance the page's searchability.\n",
      "\n",
      "3. Integrate internal links within the content to high-authority pages within the DeepLearning.AI platform for improved SEO performance and user engagement.\n",
      "\n",
      "--------------------------------------------------------------------------------\n",
      "\u001b[34m\n",
      "********************************************************************************\u001b[0m\n",
      "\u001b[34mStarting a new chat....\u001b[0m\n",
      "\u001b[34m\n",
      "********************************************************************************\u001b[0m\n",
      "\u001b[33mCritic\u001b[0m (to Legal Reviewer):\n",
      "\n",
      "Review the following content. \n",
      "            \n",
      "\n",
      " Title: Unlocking the Power of DeepLearning.AI\n",
      "\n",
      "Dive into the world of Artificial Intelligence with DeepLearning.AI! Offering cutting-edge courses created by industry experts, this platform equips you with the skills to thrive in the age of AI. From computer vision to natural language processing, DeepLearning.AI covers it all. Whether you're a beginner or a seasoned professional, there's something for everyone. Join a community of learners worldwide and stay ahead of the curve. Embrace the future with DeepLearning.AI and unleash your potential in this rapidly evolving field. Start your journey today!\n",
      "Context: \n",
      "{'Reviewer': 'SEO Specialist', 'Review': 'Content is informative and engaging, highlighting the key features and benefits of DeepLearning.AI. Suggested improvements include incorporating targeted keywords, adding meta tags, and including internal links for SEO optimization.'}\n",
      "\n",
      "--------------------------------------------------------------------------------\n",
      "\u001b[33mLegal Reviewer\u001b[0m (to Critic):\n",
      "\n",
      "As a Legal Reviewer:\n",
      "\n",
      "- Ensure that the use of the term \"industry experts\" in the content is accurate and not misleading. It should be supported by evidence of expertise or credible sources.\n",
      "\n",
      "- Confirm that the claims about the courses offered on DeepLearning.AI are accurate and not exaggerated. Avoid making absolute statements about the platform's capabilities without supporting data.\n",
      "\n",
      "- Verify that the content does not make any false comparisons or disparaging remarks about competitors in the field of Artificial Intelligence education. Focus on highlighting the platform's strengths without undermining others.\n",
      "\n",
      "--------------------------------------------------------------------------------\n",
      "\u001b[34m\n",
      "********************************************************************************\u001b[0m\n",
      "\u001b[34mStarting a new chat....\u001b[0m\n",
      "\u001b[34m\n",
      "********************************************************************************\u001b[0m\n",
      "\u001b[33mCritic\u001b[0m (to Ethics Reviewer):\n",
      "\n",
      "Review the following content. \n",
      "            \n",
      "\n",
      " Title: Unlocking the Power of DeepLearning.AI\n",
      "\n",
      "Dive into the world of Artificial Intelligence with DeepLearning.AI! Offering cutting-edge courses created by industry experts, this platform equips you with the skills to thrive in the age of AI. From computer vision to natural language processing, DeepLearning.AI covers it all. Whether you're a beginner or a seasoned professional, there's something for everyone. Join a community of learners worldwide and stay ahead of the curve. Embrace the future with DeepLearning.AI and unleash your potential in this rapidly evolving field. Start your journey today!\n",
      "Context: \n",
      "{'Reviewer': 'SEO Specialist', 'Review': 'Content is informative and engaging, highlighting the key features and benefits of DeepLearning.AI. Suggested improvements include incorporating targeted keywords, adding meta tags, and including internal links for SEO optimization.'}\n",
      "{'Reviewer': 'SEO Specialist', 'Review': 'Content is informative and engaging, highlighting the key features and benefits of DeepLearning.AI. Suggested improvements include incorporating targeted keywords, adding meta tags, and including internal links for SEO optimization.'}\n",
      "\n",
      "--------------------------------------------------------------------------------\n",
      "\u001b[33mEthics Reviewer\u001b[0m (to Critic):\n",
      "\n",
      "Role: Ethics Reviewer\n",
      "\n",
      "Suggestions:\n",
      "- Ensure the content accurately represents the depth and breadth of the courses offered by DeepLearning.AI without exaggeration or misleading claims.\n",
      "- Disclose any affiliations or sponsorships with DeepLearning.AI to maintain transparency with the audience.\n",
      "- Avoid making promises of guaranteed success or outcomes that may create unrealistic expectations for learners.\n",
      "\n",
      "--------------------------------------------------------------------------------\n",
      "\u001b[34m\n",
      "********************************************************************************\u001b[0m\n",
      "\u001b[34mStarting a new chat....\u001b[0m\n",
      "\u001b[34m\n",
      "********************************************************************************\u001b[0m\n",
      "\u001b[33mCritic\u001b[0m (to Meta Reviewer):\n",
      "\n",
      "Aggregrate feedback from all reviewers and give final suggestions on the writing.\n",
      "Context: \n",
      "{'Reviewer': 'SEO Specialist', 'Review': 'Content is informative and engaging, highlighting the key features and benefits of DeepLearning.AI. Suggested improvements include incorporating targeted keywords, adding meta tags, and including internal links for SEO optimization.'}\n",
      "{'Reviewer': 'SEO Specialist', 'Review': 'Content is informative and engaging, highlighting the key features and benefits of DeepLearning.AI. Suggested improvements include incorporating targeted keywords, adding meta tags, and including internal links for SEO optimization.'}\n",
      "{'reviewer': 'Ethics Reviewer', 'review': 'Suggestions: - Ensure the content accurately represents the depth and breadth of the courses offered by DeepLearning.AI without exaggeration or misleading claims. - Disclose any affiliations or sponsorships with DeepLearning.AI to maintain transparency with the audience. - Avoid making promises of guaranteed success or outcomes that may create unrealistic expectations for learners.'}\n",
      "\n",
      "--------------------------------------------------------------------------------\n",
      "\u001b[33mMeta Reviewer\u001b[0m (to Critic):\n",
      "\n",
      "Aggregated feedback from reviewers:\n",
      "1. SEO Specialists:\n",
      "   - Content is informative and engaging, highlighting key features and benefits of DeepLearning.AI.\n",
      "   - Suggested improvements: incorporate targeted keywords, add meta tags, include internal links for SEO optimization.\n",
      "\n",
      "2. Ethics Reviewer:\n",
      "   - Ensure content accurately represents the breadth of courses without exaggeration.\n",
      "   - Disclose any affiliations or sponsorships with DeepLearning.AI for transparency.\n",
      "   - Avoid making promises of guaranteed success that may create unrealistic expectations.\n",
      "\n",
      "Final suggestions:\n",
      "- The content is praised for being informative and engaging, focusing on the benefits of DeepLearning.AI.\n",
      "- Incorporate targeted keywords and meta tags for better SEO optimization.\n",
      "- Ensure transparency by disclosing any affiliations or sponsorships with DeepLearning.AI.\n",
      "- Avoid making unrealistic promises of guaranteed success to maintain ethical standards.\n",
      "- Include internal links to improve overall SEO performance and enhance user experience.\n"
     ]
    },
    {
     "name": "stdout",
     "output_type": "stream",
     "text": [
      "\n",
      "--------------------------------------------------------------------------------\n",
      "\u001b[33mCritic\u001b[0m (to Writer):\n",
      "\n",
      "Aggregated feedback from reviewers:\n",
      "1. SEO Specialists:\n",
      "   - Content is informative and engaging, highlighting key features and benefits of DeepLearning.AI.\n",
      "   - Suggested improvements: incorporate targeted keywords, add meta tags, include internal links for SEO optimization.\n",
      "\n",
      "2. Ethics Reviewer:\n",
      "   - Ensure content accurately represents the breadth of courses without exaggeration.\n",
      "   - Disclose any affiliations or sponsorships with DeepLearning.AI for transparency.\n",
      "   - Avoid making promises of guaranteed success that may create unrealistic expectations.\n",
      "\n",
      "Final suggestions:\n",
      "- The content is praised for being informative and engaging, focusing on the benefits of DeepLearning.AI.\n",
      "- Incorporate targeted keywords and meta tags for better SEO optimization.\n",
      "- Ensure transparency by disclosing any affiliations or sponsorships with DeepLearning.AI.\n",
      "- Avoid making unrealistic promises of guaranteed success to maintain ethical standards.\n",
      "- Include internal links to improve overall SEO performance and enhance user experience.\n",
      "\n",
      "--------------------------------------------------------------------------------\n",
      "\u001b[33mWriter\u001b[0m (to Critic):\n",
      "\n",
      "Title: Unveiling the Potential of DeepLearning.AI for Aspiring Minds\n",
      "\n",
      "Embark on a transformative journey with DeepLearning.AI, delving into the realm of Artificial Intelligence through expert-led courses. From computer vision to natural language processing, master the skills essential in today's AI-driven world. Engage with a global community of learners, embracing continuous growth and innovation. Transparency is key - we disclose any affiliations, ensuring trust and credibility. While we don't promise overnight success, we offer invaluable knowledge and resources for your professional advancement. Optimize your learning experience by incorporating targeted keywords, meta tags, and internal links. Join us today and discover the limitless possibilities of DeepLearning.AI.\n",
      "\n",
      "--------------------------------------------------------------------------------\n"
     ]
    }
   ],
   "source": [
    "res = critic.initiate_chat(\n",
    "    recipient=writer,\n",
    "    message=task,\n",
    "    max_turns=2,\n",
    "    summary_method=\"last_msg\"\n",
    ")"
   ]
  },
  {
   "cell_type": "markdown",
   "id": "c5c833b0",
   "metadata": {},
   "source": [
    "## Get the summary"
   ]
  },
  {
   "cell_type": "code",
   "execution_count": null,
   "id": "68ef82ed-f102-4964-b7be-60e2f258a39b",
   "metadata": {
    "height": 30
   },
   "outputs": [
    {
     "name": "stdout",
     "output_type": "stream",
     "text": [
      "Title: Unveiling the Potential of DeepLearning.AI for Aspiring Minds\n",
      "\n",
      "Embark on a transformative journey with DeepLearning.AI, delving into the realm of Artificial Intelligence through expert-led courses. From computer vision to natural language processing, master the skills essential in today's AI-driven world. Engage with a global community of learners, embracing continuous growth and innovation. Transparency is key - we disclose any affiliations, ensuring trust and credibility. While we don't promise overnight success, we offer invaluable knowledge and resources for your professional advancement. Optimize your learning experience by incorporating targeted keywords, meta tags, and internal links. Join us today and discover the limitless possibilities of DeepLearning.AI.\n"
     ]
    }
   ],
   "source": [
    "print(res.summary)"
   ]
  }
 ],
 "metadata": {
  "kernelspec": {
   "display_name": "Python 3 (ipykernel)",
   "language": "python",
   "name": "python3"
  },
  "language_info": {
   "codemirror_mode": {
    "name": "ipython",
    "version": 3
   },
   "file_extension": ".py",
   "mimetype": "text/x-python",
   "name": "python",
   "nbconvert_exporter": "python",
   "pygments_lexer": "ipython3",
   "version": "3.11.9"
  }
 },
 "nbformat": 4,
 "nbformat_minor": 5
}
